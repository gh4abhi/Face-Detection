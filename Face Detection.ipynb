{
 "cells": [
  {
   "cell_type": "code",
   "execution_count": 11,
   "metadata": {},
   "outputs": [],
   "source": [
    "import os\n",
    "import cv2\n",
    "import numpy as np\n",
    "import face_recognition"
   ]
  },
  {
   "cell_type": "code",
   "execution_count": 12,
   "metadata": {},
   "outputs": [
    {
     "name": "stdout",
     "output_type": "stream",
     "text": [
      "[True]\n"
     ]
    }
   ],
   "source": [
    "def readImg(name):\n",
    "    return cv2.imread(name)\n",
    "def colorTORGB(name):\n",
    "    return cv2.cvtColor(name,cv2.COLOR_BGR2RGB) \n",
    "def getEncodings(name):\n",
    "    return face_recognition.face_encodings(name)[0]\n",
    "def compareImg(name1 , name2):\n",
    "    return face_recognition.compare_faces([name1],name2)\n",
    "img1 = readImg(\"V4.jpg\")\n",
    "img2 = readImg(\"V3.jpg\")\n",
    "img1 = colorTORGB(img1)\n",
    "img2 = colorTORGB(img2)\n",
    "encodeImg1 = getEncodings(img1)\n",
    "encodeImg2 = getEncodings(img2)\n",
    "result = compareImg(encodeImg1,encodeImg2)\n",
    "print(result)"
   ]
  },
  {
   "cell_type": "code",
   "execution_count": null,
   "metadata": {},
   "outputs": [],
   "source": []
  }
 ],
 "metadata": {
  "kernelspec": {
   "display_name": "Python 3",
   "language": "python",
   "name": "python3"
  },
  "language_info": {
   "codemirror_mode": {
    "name": "ipython",
    "version": 3
   },
   "file_extension": ".py",
   "mimetype": "text/x-python",
   "name": "python",
   "nbconvert_exporter": "python",
   "pygments_lexer": "ipython3",
   "version": "3.7.6"
  }
 },
 "nbformat": 4,
 "nbformat_minor": 4
}
